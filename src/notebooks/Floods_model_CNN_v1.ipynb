{
 "cells": [
  {
   "cell_type": "code",
   "execution_count": null,
   "metadata": {},
   "outputs": [],
   "source": [
    "import tensorflow as tf\n",
    "from tensorflow.keras import layers, models\n",
    "\n",
    "def MobileUNet(input_shape=(512, 512, 6)):\n",
    "    inputs = tf.keras.Input(shape=input_shape)\n",
    "\n",
    "    # Base model (MobileNetV2 as encoder)\n",
    "    base_model = tf.keras.applications.MobileNetV2(\n",
    "        input_shape=input_shape,\n",
    "        include_top=False,\n",
    "        weights=None  # No pretrained weights for 6 channels\n",
    "    )\n",
    "\n",
    "    # Use intermediate layers for skip connections\n",
    "    layer_names = [\n",
    "        'block_1_expand_relu',   # 128x128\n",
    "        'block_3_expand_relu',   # 64x64\n",
    "        'block_6_expand_relu',   # 32x32\n",
    "        'block_13_expand_relu',  # 16x16\n",
    "        'block_16_project',      # 8x8 (bottleneck)\n",
    "    ]\n",
    "    skips = [base_model.get_layer(name).output for name in layer_names]\n",
    "    encoder = tf.keras.Model(inputs=base_model.input, outputs=skips)\n",
    "\n",
    "    # If using 6-band input, replicate channels to match expected shape\n",
    "    if input_shape[-1] != 3:\n",
    "        x = layers.Conv2D(3, 1, padding='same')(inputs)\n",
    "    else:\n",
    "        x = inputs\n",
    "\n",
    "    x = encoder(x)\n",
    "    x, skips = x[-1], reversed(x[:-1])  # bottleneck and skip layers\n",
    "\n",
    "    # Decoder\n",
    "    up_filters = [512, 256, 128, 64]\n",
    "    for up_filter, skip in zip(up_filters, skips):\n",
    "        x = layers.Conv2DTranspose(up_filter, 3, strides=2, padding='same')(x)\n",
    "        x = layers.Concatenate()([x, skip])\n",
    "        x = layers.Conv2D(up_filter, 3, padding='same', activation='relu')(x)\n",
    "        x = layers.Conv2D(up_filter, 3, padding='same', activation='relu')(x)\n",
    "\n",
    "    # Output layer\n",
    "    outputs = layers.Conv2D(1, 1, activation='sigmoid')(x)\n",
    "\n",
    "    return models.Model(inputs, outputs)\n"
   ]
  },
  {
   "cell_type": "code",
   "execution_count": null,
   "metadata": {},
   "outputs": [],
   "source": [
    "def dice_loss(y_true, y_pred, smooth=1e-6):\n",
    "    y_true_f = tf.reshape(y_true, [-1])\n",
    "    y_pred_f = tf.reshape(y_pred, [-1])\n",
    "    intersection = tf.reduce_sum(y_true_f * y_pred_f)\n",
    "    return 1 - (2. * intersection + smooth) / (tf.reduce_sum(y_true_f) + tf.reduce_sum(y_pred_f) + smooth)\n",
    "\n",
    "bce = tf.keras.losses.BinaryCrossentropy()\n",
    "\n",
    "def bce_dice_loss(y_true, y_pred):\n",
    "    return 0.5 * bce(y_true, y_pred) + 0.5 * dice_loss(y_true, y_pred)\n"
   ]
  },
  {
   "cell_type": "code",
   "execution_count": null,
   "metadata": {},
   "outputs": [],
   "source": [
    "model = MobileUNet(input_shape=(256, 256, 6))\n",
    "model.compile(\n",
    "    optimizer=tf.keras.optimizers.Adam(1e-4),\n",
    "    loss=bce_dice_loss,\n",
    "    metrics=[\n",
    "        tf.keras.metrics.MeanIoU(num_classes=2),\n",
    "        tf.keras.metrics.Recall(),\n",
    "        tf.keras.metrics.Precision()\n",
    "    ]\n",
    ")\n",
    "model.summary()\n"
   ]
  }
 ],
 "metadata": {
  "language_info": {
   "name": "python"
  }
 },
 "nbformat": 4,
 "nbformat_minor": 2
}
